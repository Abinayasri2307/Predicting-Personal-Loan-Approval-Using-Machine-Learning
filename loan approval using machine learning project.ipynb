import pandas as pd
import numpy as np
import pickle
import matplotlib.pyplot as plt
%matplotlib inline
import seaborn as sns
import sklearn
from sklearn.tree import DecisionTreeClassifier
from sklearn.ensemble import GradientBoostingClassifier, RandomForestClassifier
from sklearn.neighbors import KNeighborsClassifier
from sklearn.model_selection import RandomizedSearchCV
import imblearn
from sklearn.model_selection import train_test_split
from sklearn.preprocessing import StandardScaler
from sklearn.metrics import accuracy_score, classification_report, confusion_matrix, f1_score

data = pd.read_csv('loan_prediction.csv')
data

data['Gender']=data['Gender'].astype('int64')
data['Married']=data['Married'].astype('int64')
data['Dependents']=data['Dependents'].astype('int64')
data['Self_Employed']=data['Self_Employed'].astype('int64')
data['CoapplicantIncome']=data['CoapplicantIncome'].astype('int64')
data['LoanAmount']=data['LoanAmount'].astype('int64')
data['Loan_Amount_Term']=data['Loan_Amount_Term'].astype('int64')
data['Credit_History']=data['Credit_History'].astype('int64')

from imblearn.combine import SMOTETomek
smote = SMOTETomek(0.90)
y = data['Loan_Status']
x = data.drop(columns=['Loan_Status'],axis=1)
x_bal,y_bal = smote.fit_resample(x,y)
print(y.value_counts())
print(y_bal.value_counts())

data.describe()

plt.figure(figsize=(12,5))
plt.subplot(121)
sns.distplot(data['ApplicantIncome'], color='r')
plt.subplot(122)
sns.distplot(data['Credit_History'])
plt.show()

plt.figure(figsize=(18,4))
plt.subplot(1,4,1)
sns.countplot(data['Gender'])
plt.subplot(1,4,2)
sns.countplot(data['Education'])
plt.show()

plt.figure(figsize=(20,5))
plt.subplot(131)
sns.countplot(data['Married'], hue=data['Gender'])
plt.subplot(132)
sns.countplot(data['Self_Employed'], hue=data['Education'])
plt.subplot(133)
sns.countplot(data['Property_Area'], hue=data['Loan_Amount_Term'])

sns.swarmplot(data['Gender'],data['ApplicantIncome'], hue = data['Loan_Status'])
sc=StandardScaler()
x_bal=sc.fit_transform(x_bal) 
x_bal = pd.DataFrame(x_bal,columns=names)

X_train, X_test, y_train, y_test = train_test_split(x_bal, y_bal, test_size=0.33, random_state=42)

def decisionTree(x_train, x_test, y_train, y_test):
      dt=DecisionTreeClassifier()
      dt.fit(x_train,y_train)
      yPred = dt.predict(x_test)
      print('***DecisionTreeClassifier***')
      print('Confusion matrix')
      print(confusion_matrix(y_test,yPred))
      print('Classification report')
      print(classification_report(y_test,yPred))

def randomForest(x_train, x_test, y_train, y_test):
      rf = randomForestClassifier()
      rf.fit(x_train,y_train)
      yPred = rf.predict(x_test)
      print('***RandomForestClassifier***')
      print('Confusion matrix')
      print(confusion_matrix(y_test,yPred))
      print('Classification report')
      print(classification_report(y_test,yPred))

def KNN(x_train, x_test, y_train, y_test):
      knn = KNeighborsClassifier()
      knn.fit(x_train,y_train)
      yPred = knn.predict(x_test)
      print('***KNeighborsClassifier***')
      print('Confusion matrix')
      print(confusion_matrix(y_test,yPred)
      print('Classification report')
      print(classification_report(y_test,yPred))

def xgboost(x_train, x_test, y_train, y_test):
      xg = GradientBoostingClassifier()
      xg.fit(x_train,y_train)
      yPred = xg.predict(x_test)
      print('***GradientBoostingClassifier***')
      print('Confusion matrix')
      print(confusion_matrix(y_test,yPred))
      print('Clasification report')
      print(classification_report(y_test,yPred))

import tensorflow
from tensorflow.keras.models import Sequential
from tensorflow.keras.layers import Dense
classifier = Sequential()
classifier.add(Dense(units=100, activation='relu' , input_dim=11))
classifier.add(Dense(units=50, activation='relu'))
classifier.add(Dense(units=1, activation='sigmoid'))
classifier.compile(optimizer='adam', loss='binary_crossentropy', metrics=['accuracy'])

model_history = classifier.fit(X_train, y_train, batch_size=100, validation_split=0.2, epochs=100)

dtr.predict([[1,1, 0, 1, 1, 4276, 1542,145, 240, 0,1]])
 rfr.predict([[1,1, 0, 1, 1, 4276, 1542,145, 240, 0,1]])
knn.predict([[1,1, 0, 1, 1, 4276, 1542,145, 240, 0,1]])
xgb.predict([[1,1, 0, 1, 1, 4276, 1542,145, 240, 0,1]])

classifier.save("loan.h5")
y_pred = classifier.predict(X_test)
y_pred

y_pred = (y_pred = (y_pred > 0.5)
y_pred

def predict_exit(sample_value):
      sample_value = np.array(sample_value)
      sample_value = sample_value.reshape(1, -1)
      sample_value = sc.transform(sample_value)
      return classifier.predict(sample_value)	

sample_value = [[1,1, 0, 1, 1, 4276, 1542,145, 240, 0,1]]
if predict_exit(sample_value)>0.5:
    print('Prediction: High chance of Loan Approval!')
else:
    print('Prediction: Low chance loan Approval.')


sample_value = [[1,1, 0, 1, 1, 4276, 1542,145, 240, 0,1]]
if predict_exit(sample_value)>0.5:
    print('Prediction: High chance of Loan Approval!')
else:
    print('Prediction: Low chance loan Approval.')

def compareModel(X_train,X_test,y_train,y_test):
  decisionTree(X_train,X_test,y_train,y_test)
  print('-'*100)
  RandomForest(X_train,X_test,y_train,y_test)
  print('-'*100)
  XGB(X_train,X_test,y_train,y_test)
  print('_'*100)
  KNN(X_train,X_test,y_train,y_test)
  print('-'*100)

  yPred = classifier.predict(X_test)
  print(accuracy_score(y_pred,y_test))
  print("ANN Model")
  print("Confusion_Matrix")
  print(confusion_matrix(y_test,y_pred))
  print("Classification Report")
  print(classification_report(y_test,y_pred))

from sklearn.model_selection import cross_val_score
rf = RandomForestClassifier()
rf.fit(x_train,y_train)
yPred = rf.predict(x_test)
f1_score(yPred,y_test,average='weighted')
0.9679166666666668
cv = cross_val_score(rf,x,y,cv=5)
np.mean(cv)
0.985

pickle.dump(model,open('rdf.pkl','wb'))
from flask import Flask, render_template, request 
import numpy as np
import pickle

app = Flask(_name_)
model = pickle.load(open(r'rdf.pkl', 'rb'))
scale = pickle.load(open(r'scale1.pkl','rb'))

@app.route('/')
def home():
    return render_template('home.html')

@app.route('/submit',methods=["POST","GET"])
def submit():
  input_feature=[int(x) for x in request.form.values()]
  input_feature=[np.array(input_feature)]
  print(input_feature)
  names = ['Gender', 'Married','Dependents', 'Education', 'Self_Employed', 'ApplicantIncome'; 'CoapplicantIncome','LoanAmount','Loan_Amount_Term','Credot_History','Property_Area']
  data = pandas.DataFrame(input_feature,columns=names)
  print(data)

  prediction=model.predict(data)
  print(prediction)
  prediction = int(prediction)
  print(type(prediction))

  if (prediction == 0):
    return render_template("output.html",result = "Loan will Not be Approved")
  else:
    return render_template("output.html",result = "Loan will be Approved")
    if __name__=="__main__"
    port=int(os.environ.get('PORT',5000))
    app.run(debug=False)
    


















